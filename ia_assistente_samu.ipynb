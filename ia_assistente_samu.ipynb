{
 "cells": [
  {
   "cell_type": "markdown",
   "metadata": {
    "colab_type": "text",
    "id": "view-in-github"
   },
   "source": [
    "<a href=\"https://colab.research.google.com/github/wandressareis/ia_assistente_samu.ipynb/blob/main/ia_assistente_samu.ipynb\" target=\"_parent\"><img src=\"https://colab.research.google.com/assets/colab-badge.svg\" alt=\"Open In Colab\"/></a>"
   ]
  },
  {
   "cell_type": "code",
   "execution_count": null,
   "metadata": {
    "id": "Yz6t7131SLkg"
   },
   "outputs": [
    {
     "name": "stdout",
     "output_type": "stream",
     "text": [
      "Note: you may need to restart the kernel to use updated packages.\n"
     ]
    },
    {
     "name": "stderr",
     "output_type": "stream",
     "text": [
      "\n",
      "[notice] A new release of pip is available: 24.2 -> 24.3.1\n",
      "[notice] To update, run: python.exe -m pip install --upgrade pip\n"
     ]
    }
   ],
   "source": [
    "!pip install -q -U google-generativeai"
   ]
  },
  {
   "cell_type": "code",
   "execution_count": null,
   "metadata": {
    "colab": {
     "base_uri": "https://localhost:8080/"
    },
    "id": "bvxJ8G97S0TZ",
    "outputId": "0f29dde0-da55-489f-a9af-618b2f7a68d9"
   },
   "outputs": [
    {
     "name": "stdout",
     "output_type": "stream",
     "text": [
      "Note: you may need to restart the kernel to use updated packages.Requirement already satisfied: gradio in c:\\users\\reisw\\appdata\\local\\programs\\python\\python312\\lib\\site-packages (4.36.1)\n",
      "Requirement already satisfied: aiofiles<24.0,>=22.0 in c:\\users\\reisw\\appdata\\local\\programs\\python\\python312\\lib\\site-packages (from gradio) (23.2.1)\n",
      "Requirement already satisfied: altair<6.0,>=4.2.0 in c:\\users\\reisw\\appdata\\local\\programs\\python\\python312\\lib\\site-packages (from gradio) (5.3.0)\n",
      "Requirement already satisfied: fastapi in c:\\users\\reisw\\appdata\\local\\programs\\python\\python312\\lib\\site-packages (from gradio) (0.111.0)\n",
      "Requirement already satisfied: ffmpy in c:\\users\\reisw\\appdata\\local\\programs\\python\\python312\\lib\\site-packages (from gradio) (0.3.2)\n",
      "Requirement already satisfied: gradio-client==1.0.1 in c:\\users\\reisw\\appdata\\local\\programs\\python\\python312\\lib\\site-packages (from gradio) (1.0.1)\n",
      "Requirement already satisfied: httpx>=0.24.1 in c:\\users\\reisw\\appdata\\local\\programs\\python\\python312\\lib\\site-packages (from gradio) (0.27.0)\n",
      "Requirement already satisfied: huggingface-hub>=0.19.3 in c:\\users\\reisw\\appdata\\local\\programs\\python\\python312\\lib\\site-packages (from gradio) (0.23.4)\n",
      "Requirement already satisfied: importlib-resources<7.0,>=1.3 in c:\\users\\reisw\\appdata\\local\\programs\\python\\python312\\lib\\site-packages (from gradio) (6.4.0)\n",
      "Requirement already satisfied: jinja2<4.0 in c:\\users\\reisw\\appdata\\local\\programs\\python\\python312\\lib\\site-packages (from gradio) (3.1.4)\n",
      "Requirement already satisfied: markupsafe~=2.0 in c:\\users\\reisw\\appdata\\local\\programs\\python\\python312\\lib\\site-packages (from gradio) (2.1.5)\n",
      "Requirement already satisfied: matplotlib~=3.0 in c:\\users\\reisw\\appdata\\local\\programs\\python\\python312\\lib\\site-packages (from gradio) (3.9.0)\n",
      "Requirement already satisfied: numpy<3.0,>=1.0 in c:\\users\\reisw\\appdata\\local\\programs\\python\\python312\\lib\\site-packages (from gradio) (2.0.0)\n",
      "Requirement already satisfied: orjson~=3.0 in c:\\users\\reisw\\appdata\\local\\programs\\python\\python312\\lib\\site-packages (from gradio) (3.10.5)\n",
      "Requirement already satisfied: packaging in c:\\users\\reisw\\appdata\\roaming\\python\\python312\\site-packages (from gradio) (24.1)\n",
      "Requirement already satisfied: pandas<3.0,>=1.0 in c:\\users\\reisw\\appdata\\local\\programs\\python\\python312\\lib\\site-packages (from gradio) (2.2.2)\n",
      "Requirement already satisfied: pillow<11.0,>=8.0 in c:\\users\\reisw\\appdata\\local\\programs\\python\\python312\\lib\\site-packages (from gradio) (10.3.0)\n",
      "Requirement already satisfied: pydantic>=2.0 in c:\\users\\reisw\\appdata\\local\\programs\\python\\python312\\lib\\site-packages (from gradio) (2.7.4)\n",
      "Requirement already satisfied: pydub in c:\\users\\reisw\\appdata\\local\\programs\\python\\python312\\lib\\site-packages (from gradio) (0.25.1)\n",
      "Requirement already satisfied: python-multipart>=0.0.9 in c:\\users\\reisw\\appdata\\local\\programs\\python\\python312\\lib\\site-packages (from gradio) (0.0.9)\n",
      "Requirement already satisfied: pyyaml<7.0,>=5.0 in c:\\users\\reisw\\appdata\\local\\programs\\python\\python312\\lib\\site-packages (from gradio) (6.0.1)\n",
      "Requirement already satisfied: ruff>=0.2.2 in c:\\users\\reisw\\appdata\\local\\programs\\python\\python312\\lib\\site-packages (from gradio) (0.4.9)\n",
      "Requirement already satisfied: semantic-version~=2.0 in c:\\users\\reisw\\appdata\\local\\programs\\python\\python312\\lib\\site-packages (from gradio) (2.10.0)\n",
      "Requirement already satisfied: tomlkit==0.12.0 in c:\\users\\reisw\\appdata\\local\\programs\\python\\python312\\lib\\site-packages (from gradio) (0.12.0)\n",
      "Requirement already satisfied: typer<1.0,>=0.12 in c:\\users\\reisw\\appdata\\local\\programs\\python\\python312\\lib\\site-packages (from gradio) (0.12.3)\n",
      "Requirement already satisfied: typing-extensions~=4.0 in c:\\users\\reisw\\appdata\\local\\programs\\python\\python312\\lib\\site-packages (from gradio) (4.12.2)\n",
      "Requirement already satisfied: urllib3~=2.0 in c:\\users\\reisw\\appdata\\local\\programs\\python\\python312\\lib\\site-packages (from gradio) (2.2.2)\n",
      "Requirement already satisfied: uvicorn>=0.14.0 in c:\\users\\reisw\\appdata\\local\\programs\\python\\python312\\lib\\site-packages (from gradio) (0.30.1)\n",
      "Requirement already satisfied: fsspec in c:\\users\\reisw\\appdata\\local\\programs\\python\\python312\\lib\\site-packages (from gradio-client==1.0.1->gradio) (2024.6.0)\n",
      "Requirement already satisfied: websockets<12.0,>=10.0 in c:\\users\\reisw\\appdata\\local\\programs\\python\\python312\\lib\\site-packages (from gradio-client==1.0.1->gradio) (11.0.3)\n",
      "Requirement already satisfied: jsonschema>=3.0 in c:\\users\\reisw\\appdata\\local\\programs\\python\\python312\\lib\\site-packages (from altair<6.0,>=4.2.0->gradio) (4.22.0)\n",
      "Requirement already satisfied: toolz in c:\\users\\reisw\\appdata\\local\\programs\\python\\python312\\lib\\site-packages (from altair<6.0,>=4.2.0->gradio) (0.12.1)\n",
      "Requirement already satisfied: anyio in c:\\users\\reisw\\appdata\\local\\programs\\python\\python312\\lib\\site-packages (from httpx>=0.24.1->gradio) (4.4.0)\n",
      "Requirement already satisfied: certifi in c:\\users\\reisw\\appdata\\local\\programs\\python\\python312\\lib\\site-packages (from httpx>=0.24.1->gradio) (2024.6.2)\n",
      "Requirement already satisfied: httpcore==1.* in c:\\users\\reisw\\appdata\\local\\programs\\python\\python312\\lib\\site-packages (from httpx>=0.24.1->gradio) (1.0.5)\n",
      "Requirement already satisfied: idna in c:\\users\\reisw\\appdata\\local\\programs\\python\\python312\\lib\\site-packages (from httpx>=0.24.1->gradio) (3.7)\n",
      "Requirement already satisfied: sniffio in c:\\users\\reisw\\appdata\\local\\programs\\python\\python312\\lib\\site-packages (from httpx>=0.24.1->gradio) (1.3.1)\n",
      "Requirement already satisfied: h11<0.15,>=0.13 in c:\\users\\reisw\\appdata\\local\\programs\\python\\python312\\lib\\site-packages (from httpcore==1.*->httpx>=0.24.1->gradio) (0.14.0)\n",
      "Requirement already satisfied: filelock in c:\\users\\reisw\\appdata\\local\\programs\\python\\python312\\lib\\site-packages (from huggingface-hub>=0.19.3->gradio) (3.15.3)\n",
      "Requirement already satisfied: requests in c:\\users\\reisw\\appdata\\local\\programs\\python\\python312\\lib\\site-packages (from huggingface-hub>=0.19.3->gradio) (2.32.3)\n",
      "Requirement already satisfied: tqdm>=4.42.1 in c:\\users\\reisw\\appdata\\local\\programs\\python\\python312\\lib\\site-packages (from huggingface-hub>=0.19.3->gradio) (4.66.4)\n",
      "Requirement already satisfied: contourpy>=1.0.1 in c:\\users\\reisw\\appdata\\local\\programs\\python\\python312\\lib\\site-packages (from matplotlib~=3.0->gradio) (1.2.1)\n",
      "Requirement already satisfied: cycler>=0.10 in c:\\users\\reisw\\appdata\\local\\programs\\python\\python312\\lib\\site-packages (from matplotlib~=3.0->gradio) (0.12.1)\n",
      "Requirement already satisfied: fonttools>=4.22.0 in c:\\users\\reisw\\appdata\\local\\programs\\python\\python312\\lib\\site-packages (from matplotlib~=3.0->gradio) (4.53.0)\n",
      "Requirement already satisfied: kiwisolver>=1.3.1 in c:\\users\\reisw\\appdata\\local\\programs\\python\\python312\\lib\\site-packages (from matplotlib~=3.0->gradio) (1.4.5)\n",
      "Requirement already satisfied: pyparsing>=2.3.1 in c:\\users\\reisw\\appdata\\local\\programs\\python\\python312\\lib\\site-packages (from matplotlib~=3.0->gradio) (3.1.2)\n",
      "Requirement already satisfied: python-dateutil>=2.7 in c:\\users\\reisw\\appdata\\roaming\\python\\python312\\site-packages (from matplotlib~=3.0->gradio) (2.9.0.post0)\n",
      "Requirement already satisfied: pytz>=2020.1 in c:\\users\\reisw\\appdata\\local\\programs\\python\\python312\\lib\\site-packages (from pandas<3.0,>=1.0->gradio) (2024.1)\n",
      "Requirement already satisfied: tzdata>=2022.7 in c:\\users\\reisw\\appdata\\local\\programs\\python\\python312\\lib\\site-packages (from pandas<3.0,>=1.0->gradio) (2024.1)\n",
      "Requirement already satisfied: annotated-types>=0.4.0 in c:\\users\\reisw\\appdata\\local\\programs\\python\\python312\\lib\\site-packages (from pydantic>=2.0->gradio) (0.7.0)\n",
      "Requirement already satisfied: pydantic-core==2.18.4 in c:\\users\\reisw\\appdata\\local\\programs\\python\\python312\\lib\\site-packages (from pydantic>=2.0->gradio) (2.18.4)\n",
      "Requirement already satisfied: click>=8.0.0 in c:\\users\\reisw\\appdata\\local\\programs\\python\\python312\\lib\\site-packages (from typer<1.0,>=0.12->gradio) (8.1.7)\n",
      "Requirement already satisfied: shellingham>=1.3.0 in c:\\users\\reisw\\appdata\\local\\programs\\python\\python312\\lib\\site-packages (from typer<1.0,>=0.12->gradio) (1.5.4)\n",
      "Requirement already satisfied: rich>=10.11.0 in c:\\users\\reisw\\appdata\\local\\programs\\python\\python312\\lib\\site-packages (from typer<1.0,>=0.12->gradio) (13.7.1)\n",
      "Requirement already satisfied: starlette<0.38.0,>=0.37.2 in c:\\users\\reisw\\appdata\\local\\programs\\python\\python312\\lib\\site-packages (from fastapi->gradio) (0.37.2)\n",
      "Requirement already satisfied: fastapi-cli>=0.0.2 in c:\\users\\reisw\\appdata\\local\\programs\\python\\python312\\lib\\site-packages (from fastapi->gradio) (0.0.4)\n",
      "Requirement already satisfied: ujson!=4.0.2,!=4.1.0,!=4.2.0,!=4.3.0,!=5.0.0,!=5.1.0,>=4.0.1 in c:\\users\\reisw\\appdata\\local\\programs\\python\\python312\\lib\\site-packages (from fastapi->gradio) (5.10.0)\n",
      "Requirement already satisfied: email_validator>=2.0.0 in c:\\users\\reisw\\appdata\\local\\programs\\python\\python312\\lib\\site-packages (from fastapi->gradio) (2.2.0)\n",
      "Requirement already satisfied: colorama in c:\\users\\reisw\\appdata\\roaming\\python\\python312\\site-packages (from click>=8.0.0->typer<1.0,>=0.12->gradio) (0.4.6)\n",
      "Requirement already satisfied: dnspython>=2.0.0 in c:\\users\\reisw\\appdata\\local\\programs\\python\\python312\\lib\\site-packages (from email_validator>=2.0.0->fastapi->gradio) (2.6.1)\n",
      "Requirement already satisfied: attrs>=22.2.0 in c:\\users\\reisw\\appdata\\local\\programs\\python\\python312\\lib\\site-packages (from jsonschema>=3.0->altair<6.0,>=4.2.0->gradio) (23.2.0)\n",
      "Requirement already satisfied: jsonschema-specifications>=2023.03.6 in c:\\users\\reisw\\appdata\\local\\programs\\python\\python312\\lib\\site-packages (from jsonschema>=3.0->altair<6.0,>=4.2.0->gradio) (2023.12.1)\n",
      "Requirement already satisfied: referencing>=0.28.4 in c:\\users\\reisw\\appdata\\local\\programs\\python\\python312\\lib\\site-packages (from jsonschema>=3.0->altair<6.0,>=4.2.0->gradio) (0.35.1)\n",
      "Requirement already satisfied: rpds-py>=0.7.1 in c:\\users\\reisw\\appdata\\local\\programs\\python\\python312\\lib\\site-packages (from jsonschema>=3.0->altair<6.0,>=4.2.0->gradio) (0.18.1)\n",
      "Requirement already satisfied: six>=1.5 in c:\\users\\reisw\\appdata\\roaming\\python\\python312\\site-packages (from python-dateutil>=2.7->matplotlib~=3.0->gradio) (1.16.0)\n",
      "Requirement already satisfied: markdown-it-py>=2.2.0 in c:\\users\\reisw\\appdata\\local\\programs\\python\\python312\\lib\\site-packages (from rich>=10.11.0->typer<1.0,>=0.12->gradio) (3.0.0)\n",
      "Requirement already satisfied: pygments<3.0.0,>=2.13.0 in c:\\users\\reisw\\appdata\\roaming\\python\\python312\\site-packages (from rich>=10.11.0->typer<1.0,>=0.12->gradio) (2.18.0)\n",
      "Requirement already satisfied: httptools>=0.5.0 in c:\\users\\reisw\\appdata\\local\\programs\\python\\python312\\lib\\site-packages (from uvicorn[standard]>=0.12.0->fastapi->gradio) (0.6.1)\n",
      "Requirement already satisfied: python-dotenv>=0.13 in c:\\users\\reisw\\appdata\\local\\programs\\python\\python312\\lib\\site-packages (from uvicorn[standard]>=0.12.0->fastapi->gradio) (1.0.1)\n",
      "Requirement already satisfied: watchfiles>=0.13 in c:\\users\\reisw\\appdata\\local\\programs\\python\\python312\\lib\\site-packages (from uvicorn[standard]>=0.12.0->fastapi->gradio) (0.22.0)\n",
      "Requirement already satisfied: charset-normalizer<4,>=2 in c:\\users\\reisw\\appdata\\local\\programs\\python\\python312\\lib\\site-packages (from requests->huggingface-hub>=0.19.3->gradio) (3.3.2)\n",
      "Requirement already satisfied: mdurl~=0.1 in c:\\users\\reisw\\appdata\\local\\programs\\python\\python312\\lib\\site-packages (from markdown-it-py>=2.2.0->rich>=10.11.0->typer<1.0,>=0.12->gradio) (0.1.2)\n",
      "\n"
     ]
    },
    {
     "name": "stderr",
     "output_type": "stream",
     "text": [
      "\n",
      "[notice] A new release of pip is available: 24.2 -> 24.3.1\n",
      "[notice] To update, run: python.exe -m pip install --upgrade pip\n"
     ]
    }
   ],
   "source": [
    "!pip install gradio"
   ]
  },
  {
   "cell_type": "code",
   "execution_count": 3,
   "metadata": {
    "id": "0mIxN6XRS7Mg"
   },
   "outputs": [
    {
     "name": "stderr",
     "output_type": "stream",
     "text": [
      "c:\\Users\\reisw\\AppData\\Local\\Programs\\Python\\Python312\\Lib\\site-packages\\tqdm\\auto.py:21: TqdmWarning: IProgress not found. Please update jupyter and ipywidgets. See https://ipywidgets.readthedocs.io/en/stable/user_install.html\n",
      "  from .autonotebook import tqdm as notebook_tqdm\n"
     ]
    }
   ],
   "source": [
    "import pathlib\n",
    "import textwrap\n",
    "\n",
    "import google.generativeai as genai\n",
    "\n",
    "from IPython.display import display\n",
    "from IPython.display import Markdown\n",
    "\n",
    "import gradio as gr\n",
    "\n",
    "\n",
    "def to_markdown(text):\n",
    "  text = text.replace('•', '  *')\n",
    "  return Markdown(textwrap.indent(text, '> ', predicate=lambda _: True))"
   ]
  },
  {
   "cell_type": "code",
   "execution_count": 9,
   "metadata": {
    "id": "rZxIi120TAFf"
   },
   "outputs": [
    {
     "ename": "ModuleNotFoundError",
     "evalue": "No module named 'google.colab'",
     "output_type": "error",
     "traceback": [
      "\u001b[1;31m---------------------------------------------------------------------------\u001b[0m",
      "\u001b[1;31mModuleNotFoundError\u001b[0m                       Traceback (most recent call last)",
      "Cell \u001b[1;32mIn[9], line 1\u001b[0m\n\u001b[1;32m----> 1\u001b[0m \u001b[38;5;28;01mfrom\u001b[39;00m \u001b[38;5;21;01mgoogle\u001b[39;00m\u001b[38;5;21;01m.\u001b[39;00m\u001b[38;5;21;01mcolab\u001b[39;00m \u001b[38;5;28;01mimport\u001b[39;00m userdata\n",
      "\u001b[1;31mModuleNotFoundError\u001b[0m: No module named 'google.colab'"
     ]
    }
   ],
   "source": [
    "from google.colab import userdata"
   ]
  },
  {
   "cell_type": "code",
   "execution_count": null,
   "metadata": {
    "id": "G4NP0xEoTISe"
   },
   "outputs": [],
   "source": [
    "GOOGLE_API_KEY=userdata.get('GOOGLE_API_KEY')\n",
    "\n",
    "genai.configure(api_key=GOOGLE_API_KEY)"
   ]
  },
  {
   "cell_type": "code",
   "execution_count": null,
   "metadata": {
    "colab": {
     "base_uri": "https://localhost:8080/"
    },
    "id": "i-yfT8erT4Pw",
    "outputId": "78739951-8fc4-48a2-d9e6-4ab08a249245"
   },
   "outputs": [
    {
     "name": "stdout",
     "output_type": "stream",
     "text": [
      "Drive already mounted at /content/drive; to attempt to forcibly remount, call drive.mount(\"/content/drive\", force_remount=True).\n"
     ]
    }
   ],
   "source": [
    "# Montgem do Google Drive\n",
    "# from google.colab import drive\n",
    "# drive.mount('/content/drive')"
   ]
  },
  {
   "cell_type": "code",
   "execution_count": null,
   "metadata": {
    "id": "N4J8RFrTUKCl"
   },
   "outputs": [],
   "source": [
    "# Caminho do arquivo específico no Google Drive\n",
    "# file_path = '/content/drive/MyDrive/base_de_dados_cloud_saude.xlsx'\n",
    "\n",
    "\n",
    "import pandas as pd\n",
    "\n",
    "# Leitura de um arquivo Excel usando pandas\n",
    "# df = pd.read_excel(file_path)\n",
    "df = pd.read_csv('https://raw.githubusercontent.com/wandressareis/assistente_samu_com_nlp/refs/heads/main/base_de_dados_cloud_saude.csv')"
   ]
  },
  {
   "cell_type": "code",
   "execution_count": null,
   "metadata": {
    "id": "ggFp_PUTUOE2"
   },
   "outputs": [],
   "source": [
    "import pandas as pd\n",
    "from sklearn.metrics.pairwise import cosine_similarity\n",
    "import numpy as np\n",
    "from google.colab import drive\n",
    "\n",
    "# Função para gerar embeddings\n",
    "def gerar_embeddings(texto):\n",
    "    result = genai.embed_content(\n",
    "        model=\"models/embedding-001\",\n",
    "        content=texto,\n",
    "        task_type=\"retrieval_document\",\n",
    "        title=\"Embedding de uma sintoma\")\n",
    "    return result['embedding']\n",
    "\n",
    "df['Embeddings'] = df['Descrição Detalhada da Ocorrência'].apply(lambda x: gerar_embeddings(x))"
   ]
  },
  {
   "cell_type": "code",
   "execution_count": null,
   "metadata": {
    "colab": {
     "base_uri": "https://localhost:8080/",
     "height": 365
    },
    "id": "NAPef_0VUZSR",
    "outputId": "29bd2d70-9a86-41a9-e95f-34b2d3cd3d2c"
   },
   "outputs": [
    {
     "data": {
      "application/vnd.google.colaboratory.intrinsic+json": {
       "summary": "{\n  \"name\": \"df\",\n  \"rows\": 40,\n  \"fields\": [\n    {\n      \"column\": \"Local da Ocorr\\u00eancia\",\n      \"properties\": {\n        \"dtype\": \"string\",\n        \"num_unique_values\": 40,\n        \"samples\": [\n          \"Rua dos L\\u00edrios, 135 - Jardim das Flores\",\n          \"Avenida das Brom\\u00e9lias, 150 - Parque das Flores\",\n          \"Rua das Hort\\u00eansias, 90 - Jardim Bot\\u00e2nico\"\n        ],\n        \"semantic_type\": \"\",\n        \"description\": \"\"\n      }\n    },\n    {\n      \"column\": \"Descri\\u00e7\\u00e3o Detalhada da Ocorr\\u00eancia\",\n      \"properties\": {\n        \"dtype\": \"string\",\n        \"num_unique_values\": 40,\n        \"samples\": [\n          \"Paciente com dor forte nas costas ou no abdome, n\\u00e1useas e v\\u00f4mitos.\",\n          \"Paciente com sonda vesical ou g\\u00e1strica que precisa ser trocada.\",\n          \"Paciente com dor de dente sem outros sintomas graves.\"\n        ],\n        \"semantic_type\": \"\",\n        \"description\": \"\"\n      }\n    },\n    {\n      \"column\": \"Orienta\\u00e7\\u00e3o\",\n      \"properties\": {\n        \"dtype\": \"string\",\n        \"num_unique_values\": 35,\n        \"samples\": [\n          \"Manter a pessoa deitada e calma, e monitorar os sinais vitais.\",\n          \"Entre em contato com uma funer\\u00e1ria.\",\n          \"Controlar a hemorragia, manter a pessoa im\\u00f3vel e monitorar os sinais vitais.\"\n        ],\n        \"semantic_type\": \"\",\n        \"description\": \"\"\n      }\n    },\n    {\n      \"column\": \"Enviar Ambul\\u00e2ncia?\",\n      \"properties\": {\n        \"dtype\": \"category\",\n        \"num_unique_values\": 2,\n        \"samples\": [\n          \"N\\u00e3o\",\n          \"Sim\"\n        ],\n        \"semantic_type\": \"\",\n        \"description\": \"\"\n      }\n    },\n    {\n      \"column\": \"N\\u00edvel de Prioridade\",\n      \"properties\": {\n        \"dtype\": \"category\",\n        \"num_unique_values\": 6,\n        \"samples\": [\n          \"Vermelho (N\\u00edvel 1)\",\n          \"Laranja (N\\u00edvel 2)\"\n        ],\n        \"semantic_type\": \"\",\n        \"description\": \"\"\n      }\n    },\n    {\n      \"column\": \"Tipo de Ambul\\u00e2ncia\",\n      \"properties\": {\n        \"dtype\": \"category\",\n        \"num_unique_values\": 4,\n        \"samples\": [\n          \"Unidade de Suporte Avan\\u00e7ado\",\n          \"N\\u00e3o definido\"\n        ],\n        \"semantic_type\": \"\",\n        \"description\": \"\"\n      }\n    },\n    {\n      \"column\": \"C\\u00f3digo de Deslocamento\",\n      \"properties\": {\n        \"dtype\": \"category\",\n        \"num_unique_values\": 3,\n        \"samples\": [\n          \"C\\u00f3digo 1: Sirene ligada, atendimento com prioridade\",\n          \"C\\u00f3digo 2: Sem sirene\"\n        ],\n        \"semantic_type\": \"\",\n        \"description\": \"\"\n      }\n    },\n    {\n      \"column\": \"Embeddings\",\n      \"properties\": {\n        \"dtype\": \"object\",\n        \"semantic_type\": \"\",\n        \"description\": \"\"\n      }\n    }\n  ]\n}",
       "type": "dataframe",
       "variable_name": "df"
      },
      "text/html": [
       "\n",
       "  <div id=\"df-e97ab564-d4a6-4863-92f3-75bd9e318943\" class=\"colab-df-container\">\n",
       "    <div>\n",
       "<style scoped>\n",
       "    .dataframe tbody tr th:only-of-type {\n",
       "        vertical-align: middle;\n",
       "    }\n",
       "\n",
       "    .dataframe tbody tr th {\n",
       "        vertical-align: top;\n",
       "    }\n",
       "\n",
       "    .dataframe thead th {\n",
       "        text-align: right;\n",
       "    }\n",
       "</style>\n",
       "<table border=\"1\" class=\"dataframe\">\n",
       "  <thead>\n",
       "    <tr style=\"text-align: right;\">\n",
       "      <th></th>\n",
       "      <th>Local da Ocorrência</th>\n",
       "      <th>Descrição Detalhada da Ocorrência</th>\n",
       "      <th>Orientação</th>\n",
       "      <th>Enviar Ambulância?</th>\n",
       "      <th>Nível de Prioridade</th>\n",
       "      <th>Tipo de Ambulância</th>\n",
       "      <th>Código de Deslocamento</th>\n",
       "      <th>Embeddings</th>\n",
       "    </tr>\n",
       "  </thead>\n",
       "  <tbody>\n",
       "    <tr>\n",
       "      <th>0</th>\n",
       "      <td>Rua das Flores, 123, apto 102 - Centro</td>\n",
       "      <td>Paciente homem, 55 anos, inconsciente, sem pul...</td>\n",
       "      <td>Realizar RCP (ressuscitação cardiopulmonar) at...</td>\n",
       "      <td>Sim</td>\n",
       "      <td>Vermelho (Nível 1)</td>\n",
       "      <td>Unidade de Suporte Avançado (priorizar)</td>\n",
       "      <td>Código 1: Sirene ligada, atendimento com prior...</td>\n",
       "      <td>[0.01772911, -0.010961262, -0.04155377, 0.0071...</td>\n",
       "    </tr>\n",
       "    <tr>\n",
       "      <th>1</th>\n",
       "      <td>Avenida Brasil, 456, esquina com Rua das Rosas...</td>\n",
       "      <td>Vítima de acidente de trânsito entre carro e m...</td>\n",
       "      <td>Manter vítimas imóveis, controlar sangramento ...</td>\n",
       "      <td>Sim</td>\n",
       "      <td>Vermelho (Nível 1)</td>\n",
       "      <td>Unidade de Suporte Avançado</td>\n",
       "      <td>Código 1: Sirene ligada, atendimento com prior...</td>\n",
       "      <td>[0.006777581, -0.027838863, -0.0031564625, 0.0...</td>\n",
       "    </tr>\n",
       "    <tr>\n",
       "      <th>2</th>\n",
       "      <td>Rua do Sol, 789, casa 5 - Jardim Europa</td>\n",
       "      <td>Paciente mulher, 28 anos, com histórico de epi...</td>\n",
       "      <td>Proteger a cabeça do paciente e afastar objeto...</td>\n",
       "      <td>Sim</td>\n",
       "      <td>Laranja (Nível 2)</td>\n",
       "      <td>Unidade de Suporte Básico</td>\n",
       "      <td>Código 2: Sem sirene</td>\n",
       "      <td>[0.04781714, -0.014808956, -0.019456925, 0.043...</td>\n",
       "    </tr>\n",
       "    <tr>\n",
       "      <th>3</th>\n",
       "      <td>Beco da Felicidade, 10, barraco 2 - Morro do Pelé</td>\n",
       "      <td>Paciente homem, 60 anos, com histórico de asma...</td>\n",
       "      <td>Colocar o paciente em posição confortável e in...</td>\n",
       "      <td>Sim</td>\n",
       "      <td>Laranja (Nível 2)</td>\n",
       "      <td>Unidade de Suporte Básico</td>\n",
       "      <td>Código 2: Sem sirene</td>\n",
       "      <td>[0.041793246, -0.0118380785, -0.04704558, 0.05...</td>\n",
       "    </tr>\n",
       "    <tr>\n",
       "      <th>4</th>\n",
       "      <td>Praça da Liberdade, s/n, próximo ao monumento ...</td>\n",
       "      <td>Paciente homem, 35 anos, com corte profundo na...</td>\n",
       "      <td>Aplicar pressão direta no corte com um pano li...</td>\n",
       "      <td>Sim</td>\n",
       "      <td>Amarelo (Nível 3)</td>\n",
       "      <td>Unidade de Suporte Básico</td>\n",
       "      <td>Código 2: Sem sirene</td>\n",
       "      <td>[0.03749998, -0.016269883, -0.021911206, 0.018...</td>\n",
       "    </tr>\n",
       "  </tbody>\n",
       "</table>\n",
       "</div>\n",
       "    <div class=\"colab-df-buttons\">\n",
       "\n",
       "  <div class=\"colab-df-container\">\n",
       "    <button class=\"colab-df-convert\" onclick=\"convertToInteractive('df-e97ab564-d4a6-4863-92f3-75bd9e318943')\"\n",
       "            title=\"Convert this dataframe to an interactive table.\"\n",
       "            style=\"display:none;\">\n",
       "\n",
       "  <svg xmlns=\"http://www.w3.org/2000/svg\" height=\"24px\" viewBox=\"0 -960 960 960\">\n",
       "    <path d=\"M120-120v-720h720v720H120Zm60-500h600v-160H180v160Zm220 220h160v-160H400v160Zm0 220h160v-160H400v160ZM180-400h160v-160H180v160Zm440 0h160v-160H620v160ZM180-180h160v-160H180v160Zm440 0h160v-160H620v160Z\"/>\n",
       "  </svg>\n",
       "    </button>\n",
       "\n",
       "  <style>\n",
       "    .colab-df-container {\n",
       "      display:flex;\n",
       "      gap: 12px;\n",
       "    }\n",
       "\n",
       "    .colab-df-convert {\n",
       "      background-color: #E8F0FE;\n",
       "      border: none;\n",
       "      border-radius: 50%;\n",
       "      cursor: pointer;\n",
       "      display: none;\n",
       "      fill: #1967D2;\n",
       "      height: 32px;\n",
       "      padding: 0 0 0 0;\n",
       "      width: 32px;\n",
       "    }\n",
       "\n",
       "    .colab-df-convert:hover {\n",
       "      background-color: #E2EBFA;\n",
       "      box-shadow: 0px 1px 2px rgba(60, 64, 67, 0.3), 0px 1px 3px 1px rgba(60, 64, 67, 0.15);\n",
       "      fill: #174EA6;\n",
       "    }\n",
       "\n",
       "    .colab-df-buttons div {\n",
       "      margin-bottom: 4px;\n",
       "    }\n",
       "\n",
       "    [theme=dark] .colab-df-convert {\n",
       "      background-color: #3B4455;\n",
       "      fill: #D2E3FC;\n",
       "    }\n",
       "\n",
       "    [theme=dark] .colab-df-convert:hover {\n",
       "      background-color: #434B5C;\n",
       "      box-shadow: 0px 1px 3px 1px rgba(0, 0, 0, 0.15);\n",
       "      filter: drop-shadow(0px 1px 2px rgba(0, 0, 0, 0.3));\n",
       "      fill: #FFFFFF;\n",
       "    }\n",
       "  </style>\n",
       "\n",
       "    <script>\n",
       "      const buttonEl =\n",
       "        document.querySelector('#df-e97ab564-d4a6-4863-92f3-75bd9e318943 button.colab-df-convert');\n",
       "      buttonEl.style.display =\n",
       "        google.colab.kernel.accessAllowed ? 'block' : 'none';\n",
       "\n",
       "      async function convertToInteractive(key) {\n",
       "        const element = document.querySelector('#df-e97ab564-d4a6-4863-92f3-75bd9e318943');\n",
       "        const dataTable =\n",
       "          await google.colab.kernel.invokeFunction('convertToInteractive',\n",
       "                                                    [key], {});\n",
       "        if (!dataTable) return;\n",
       "\n",
       "        const docLinkHtml = 'Like what you see? Visit the ' +\n",
       "          '<a target=\"_blank\" href=https://colab.research.google.com/notebooks/data_table.ipynb>data table notebook</a>'\n",
       "          + ' to learn more about interactive tables.';\n",
       "        element.innerHTML = '';\n",
       "        dataTable['output_type'] = 'display_data';\n",
       "        await google.colab.output.renderOutput(dataTable, element);\n",
       "        const docLink = document.createElement('div');\n",
       "        docLink.innerHTML = docLinkHtml;\n",
       "        element.appendChild(docLink);\n",
       "      }\n",
       "    </script>\n",
       "  </div>\n",
       "\n",
       "\n",
       "<div id=\"df-731f0aa7-4d4e-48e7-9351-7dd442274858\">\n",
       "  <button class=\"colab-df-quickchart\" onclick=\"quickchart('df-731f0aa7-4d4e-48e7-9351-7dd442274858')\"\n",
       "            title=\"Suggest charts\"\n",
       "            style=\"display:none;\">\n",
       "\n",
       "<svg xmlns=\"http://www.w3.org/2000/svg\" height=\"24px\"viewBox=\"0 0 24 24\"\n",
       "     width=\"24px\">\n",
       "    <g>\n",
       "        <path d=\"M19 3H5c-1.1 0-2 .9-2 2v14c0 1.1.9 2 2 2h14c1.1 0 2-.9 2-2V5c0-1.1-.9-2-2-2zM9 17H7v-7h2v7zm4 0h-2V7h2v10zm4 0h-2v-4h2v4z\"/>\n",
       "    </g>\n",
       "</svg>\n",
       "  </button>\n",
       "\n",
       "<style>\n",
       "  .colab-df-quickchart {\n",
       "      --bg-color: #E8F0FE;\n",
       "      --fill-color: #1967D2;\n",
       "      --hover-bg-color: #E2EBFA;\n",
       "      --hover-fill-color: #174EA6;\n",
       "      --disabled-fill-color: #AAA;\n",
       "      --disabled-bg-color: #DDD;\n",
       "  }\n",
       "\n",
       "  [theme=dark] .colab-df-quickchart {\n",
       "      --bg-color: #3B4455;\n",
       "      --fill-color: #D2E3FC;\n",
       "      --hover-bg-color: #434B5C;\n",
       "      --hover-fill-color: #FFFFFF;\n",
       "      --disabled-bg-color: #3B4455;\n",
       "      --disabled-fill-color: #666;\n",
       "  }\n",
       "\n",
       "  .colab-df-quickchart {\n",
       "    background-color: var(--bg-color);\n",
       "    border: none;\n",
       "    border-radius: 50%;\n",
       "    cursor: pointer;\n",
       "    display: none;\n",
       "    fill: var(--fill-color);\n",
       "    height: 32px;\n",
       "    padding: 0;\n",
       "    width: 32px;\n",
       "  }\n",
       "\n",
       "  .colab-df-quickchart:hover {\n",
       "    background-color: var(--hover-bg-color);\n",
       "    box-shadow: 0 1px 2px rgba(60, 64, 67, 0.3), 0 1px 3px 1px rgba(60, 64, 67, 0.15);\n",
       "    fill: var(--button-hover-fill-color);\n",
       "  }\n",
       "\n",
       "  .colab-df-quickchart-complete:disabled,\n",
       "  .colab-df-quickchart-complete:disabled:hover {\n",
       "    background-color: var(--disabled-bg-color);\n",
       "    fill: var(--disabled-fill-color);\n",
       "    box-shadow: none;\n",
       "  }\n",
       "\n",
       "  .colab-df-spinner {\n",
       "    border: 2px solid var(--fill-color);\n",
       "    border-color: transparent;\n",
       "    border-bottom-color: var(--fill-color);\n",
       "    animation:\n",
       "      spin 1s steps(1) infinite;\n",
       "  }\n",
       "\n",
       "  @keyframes spin {\n",
       "    0% {\n",
       "      border-color: transparent;\n",
       "      border-bottom-color: var(--fill-color);\n",
       "      border-left-color: var(--fill-color);\n",
       "    }\n",
       "    20% {\n",
       "      border-color: transparent;\n",
       "      border-left-color: var(--fill-color);\n",
       "      border-top-color: var(--fill-color);\n",
       "    }\n",
       "    30% {\n",
       "      border-color: transparent;\n",
       "      border-left-color: var(--fill-color);\n",
       "      border-top-color: var(--fill-color);\n",
       "      border-right-color: var(--fill-color);\n",
       "    }\n",
       "    40% {\n",
       "      border-color: transparent;\n",
       "      border-right-color: var(--fill-color);\n",
       "      border-top-color: var(--fill-color);\n",
       "    }\n",
       "    60% {\n",
       "      border-color: transparent;\n",
       "      border-right-color: var(--fill-color);\n",
       "    }\n",
       "    80% {\n",
       "      border-color: transparent;\n",
       "      border-right-color: var(--fill-color);\n",
       "      border-bottom-color: var(--fill-color);\n",
       "    }\n",
       "    90% {\n",
       "      border-color: transparent;\n",
       "      border-bottom-color: var(--fill-color);\n",
       "    }\n",
       "  }\n",
       "</style>\n",
       "\n",
       "  <script>\n",
       "    async function quickchart(key) {\n",
       "      const quickchartButtonEl =\n",
       "        document.querySelector('#' + key + ' button');\n",
       "      quickchartButtonEl.disabled = true;  // To prevent multiple clicks.\n",
       "      quickchartButtonEl.classList.add('colab-df-spinner');\n",
       "      try {\n",
       "        const charts = await google.colab.kernel.invokeFunction(\n",
       "            'suggestCharts', [key], {});\n",
       "      } catch (error) {\n",
       "        console.error('Error during call to suggestCharts:', error);\n",
       "      }\n",
       "      quickchartButtonEl.classList.remove('colab-df-spinner');\n",
       "      quickchartButtonEl.classList.add('colab-df-quickchart-complete');\n",
       "    }\n",
       "    (() => {\n",
       "      let quickchartButtonEl =\n",
       "        document.querySelector('#df-731f0aa7-4d4e-48e7-9351-7dd442274858 button');\n",
       "      quickchartButtonEl.style.display =\n",
       "        google.colab.kernel.accessAllowed ? 'block' : 'none';\n",
       "    })();\n",
       "  </script>\n",
       "</div>\n",
       "\n",
       "    </div>\n",
       "  </div>\n"
      ],
      "text/plain": [
       "                                 Local da Ocorrência  \\\n",
       "0             Rua das Flores, 123, apto 102 - Centro   \n",
       "1  Avenida Brasil, 456, esquina com Rua das Rosas...   \n",
       "2            Rua do Sol, 789, casa 5 - Jardim Europa   \n",
       "3  Beco da Felicidade, 10, barraco 2 - Morro do Pelé   \n",
       "4  Praça da Liberdade, s/n, próximo ao monumento ...   \n",
       "\n",
       "                   Descrição Detalhada da Ocorrência  \\\n",
       "0  Paciente homem, 55 anos, inconsciente, sem pul...   \n",
       "1  Vítima de acidente de trânsito entre carro e m...   \n",
       "2  Paciente mulher, 28 anos, com histórico de epi...   \n",
       "3  Paciente homem, 60 anos, com histórico de asma...   \n",
       "4  Paciente homem, 35 anos, com corte profundo na...   \n",
       "\n",
       "                                          Orientação Enviar Ambulância?  \\\n",
       "0  Realizar RCP (ressuscitação cardiopulmonar) at...                Sim   \n",
       "1  Manter vítimas imóveis, controlar sangramento ...                Sim   \n",
       "2  Proteger a cabeça do paciente e afastar objeto...                Sim   \n",
       "3  Colocar o paciente em posição confortável e in...                Sim   \n",
       "4  Aplicar pressão direta no corte com um pano li...                Sim   \n",
       "\n",
       "  Nível de Prioridade                       Tipo de Ambulância  \\\n",
       "0  Vermelho (Nível 1)  Unidade de Suporte Avançado (priorizar)   \n",
       "1  Vermelho (Nível 1)              Unidade de Suporte Avançado   \n",
       "2   Laranja (Nível 2)                Unidade de Suporte Básico   \n",
       "3   Laranja (Nível 2)                Unidade de Suporte Básico   \n",
       "4   Amarelo (Nível 3)                Unidade de Suporte Básico   \n",
       "\n",
       "                              Código de Deslocamento  \\\n",
       "0  Código 1: Sirene ligada, atendimento com prior...   \n",
       "1  Código 1: Sirene ligada, atendimento com prior...   \n",
       "2                               Código 2: Sem sirene   \n",
       "3                               Código 2: Sem sirene   \n",
       "4                               Código 2: Sem sirene   \n",
       "\n",
       "                                          Embeddings  \n",
       "0  [0.01772911, -0.010961262, -0.04155377, 0.0071...  \n",
       "1  [0.006777581, -0.027838863, -0.0031564625, 0.0...  \n",
       "2  [0.04781714, -0.014808956, -0.019456925, 0.043...  \n",
       "3  [0.041793246, -0.0118380785, -0.04704558, 0.05...  \n",
       "4  [0.03749998, -0.016269883, -0.021911206, 0.018...  "
      ]
     },
     "execution_count": 9,
     "metadata": {},
     "output_type": "execute_result"
    }
   ],
   "source": [
    "df.head()"
   ]
  },
  {
   "cell_type": "code",
   "execution_count": null,
   "metadata": {
    "colab": {
     "base_uri": "https://localhost:8080/"
    },
    "id": "vf0YMM7GUcn8",
    "outputId": "ca5acf48-9215-4e63-c7c8-bab96252880c"
   },
   "outputs": [
    {
     "data": {
      "text/plain": [
       "0.8966530605331448"
      ]
     },
     "execution_count": 10,
     "metadata": {},
     "output_type": "execute_result"
    }
   ],
   "source": [
    "cosine_similarity(np.array([1,2,3]).reshape(1, -1), np.array([3,5,3]).reshape(1, -1))[0][0] # similaridade"
   ]
  },
  {
   "cell_type": "code",
   "execution_count": null,
   "metadata": {
    "id": "vJnlbAQqUfXW"
   },
   "outputs": [],
   "source": [
    "# Função para diagnosticar com base na similaridade de cosseno\n",
    "def diagnosticar(descricao_ocorrencia):\n",
    "    embedding_vitima = gerar_embeddings(descricao_ocorrencia)\n",
    "    #embedding_vitima = embedding_vitima['embedding']\n",
    "    embedding_vitima = np.array(embedding_vitima).reshape(1, -1)\n",
    "\n",
    "    # Calcula a similaridade de cosseno\n",
    "    #similaridades = df['Embeddings'].apply(lambda x: cosine_similarity(embedding_vitima, np.array(x).reshape(1, -1))[0][0])\n",
    "\n",
    "    # Lista para armazenar as similaridades\n",
    "    similaridades = []\n",
    "\n",
    "    # Calcula a similaridade de cosseno\n",
    "    for embedding in df['Embeddings']:\n",
    "        embedding = np.array(embedding).reshape(1, -1)\n",
    "        similaridade = cosine_similarity(embedding_vitima, embedding)[0][0]\n",
    "        similaridades.append(similaridade)\n",
    "\n",
    "    # Converte a lista de similaridades em uma série do pandas\n",
    "    similaridades = pd.Series(similaridades)\n",
    "\n",
    "    # Encontra o índice do maior valor de similaridade\n",
    "    idx_max_similaridade = similaridades.idxmax()\n",
    "\n",
    "    # Retorna a descrição do diagnóstico e o nome da doença mais similares\n",
    "    return df.loc[idx_max_similaridade, [\"Orientação\", \"Enviar Ambulância?\", \"Nível de Prioridade\", \"Tipo de Ambulância\", \"Código de Deslocamento\"]].to_dict()\n",
    "    resultado = df.loc[idx_max_similaridade, [\"Orientação\", \"Enviar Ambulância?\", \"Nível de Prioridade\", \"Tipo de Ambulância\", \"Código de Deslocamento\"]]\n",
    "    resultado = resultado.to_frame().reset_index()\n",
    "    resultado.columns = ['Descrição', 'Detalhe']\n",
    "    return resultado"
   ]
  },
  {
   "cell_type": "code",
   "execution_count": null,
   "metadata": {
    "id": "1cJ2TkkrUh_A"
   },
   "outputs": [],
   "source": [
    "def gradio_diagnosticar(sintomas):\n",
    "    resultado = diagnosticar(sintomas)\n",
    "    \"\"\"\n",
    "    orientacao_medica = resultado[\"Orientação\"]\n",
    "    enviar_ambulancia = resultado[\"Enviar Ambulância?\"]\n",
    "    nivel_prioridade = resultado[\"Nível de Prioridade\"]\n",
    "    tipo_ambulancia = resultado[\"Tipo de Ambulância\"]\n",
    "    codigo_deslocamento = resultado[\"Código de Deslocamento\"]\"\"\"\n",
    "\n",
    "    return resultado\n",
    "\n",
    "# gradio_diagnosticar(\"Paciente homem, 60 anos, com histórico de asma, apresentando falta de ar intensa, tosse e sibilos há cerca de 10 minutos, com uso recente de inalador sem melhora.\")"
   ]
  },
  {
   "cell_type": "code",
   "execution_count": null,
   "metadata": {
    "id": "4guMSKjAUoIy"
   },
   "outputs": [],
   "source": [
    "demo = gr.Interface(\n",
    "    fn=gradio_diagnosticar,\n",
    "    inputs=\"text\",\n",
    "    outputs=\"dataframe\",\n",
    "    title=\"Ocorrências do SAMU\",\n",
    "    description=\"Informe a situação da vítima.\"\n",
    ")"
   ]
  },
  {
   "cell_type": "code",
   "execution_count": null,
   "metadata": {
    "id": "kM5EzgCPUq0P"
   },
   "outputs": [],
   "source": [
    "from google.colab import userdata\n",
    "\n",
    "GOOGLE_API_KEY=userdata.get('GOOGLE_API_KEY') # GOOGLE_API_KEY: Obtém a chave API do Google armazenada no Colab.\n",
    "\n",
    "genai.configure(api_key=GOOGLE_API_KEY) # Configura a biblioteca Google Generative AI com a chave API obtida."
   ]
  },
  {
   "cell_type": "code",
   "execution_count": null,
   "metadata": {
    "colab": {
     "base_uri": "https://localhost:8080/",
     "height": 350
    },
    "id": "Hx0u-qU0UtBH",
    "outputId": "07d3cd66-0051-424f-88e6-146541054d2e"
   },
   "outputs": [
    {
     "name": "stdout",
     "output_type": "stream",
     "text": [
      "Nova Ocorrência\n",
      "\n",
      "Número do Protocolo: 75489213\n",
      "\n",
      "Orientação dada ao solicitante pelo médico regulador: Enviar Ambulância\n",
      "Nível de Prioridade: Verde (Nível 4)\n",
      "Tipo de Ambulância: Unidade de Suporte Básico\n",
      "Código de Deslocamento: Código 2: Sem sirene \n",
      "\n",
      "Nova Ocorrência\n",
      "\n",
      "Número do Protocolo: 75489213\n",
      "\n",
      "Orientação dada ao solicitante pelo médico regulador: Enviar Ambulância\n",
      "Nível de Prioridade: Verde (Nível 4)\n",
      "Tipo de Ambulância: Unidade de Suporte Básico\n",
      "Código de Deslocamento: Código 2: Sem sirene \n",
      "\n"
     ]
    }
   ],
   "source": [
    "# Create the model\n",
    "# See https://ai.google.dev/api/python/google/generativeai/GenerativeModel\n",
    "generation_config = {\n",
    "  \"temperature\": 1,\n",
    "  \"top_p\": 0.95,\n",
    "  \"top_k\": 64,\n",
    "  \"max_output_tokens\": 8192,\n",
    "  \"response_mime_type\": \"text/plain\",\n",
    "}\n",
    "\n",
    "model = genai.GenerativeModel(\n",
    "  model_name=\"gemini-1.5-flash\",\n",
    "  generation_config=generation_config,\n",
    "  # safety_settings = Adjust safety settings\n",
    "  # See https://ai.google.dev/gemini-api/docs/safety-settings\n",
    ")\n",
    "\n",
    "response = model.generate_content([\n",
    "  \"input: Orientação dada ao solicitante pelo médico regulador, Enviar Ambulância,  Nível de Prioridade, Tipo de Ambulância, Código de Deslocamento\",\n",
    "  \"output: A partir do input gere um texto que será um e-mail enviado para as equipes de ambulâncias do SAMU com o título \\\"Nova Ocorrência\\\".   Gere um número de protocolo aleatório que irá simular o número de protocolo da ocorrência e adicione ao texto.\\n\\nTexto sem nenhum tipo de formatação.\",\n",
    "  \"input: {\\n\\\"Orientação dada ao solicitante pelo médico regulador\\\"=\\\"\", \"Enviar Ambulância\\\"=\\\"Sim\\\",  \\\"Nível de Prioridade\\\"=\\\"Verde (Nível 4)\\\", \\\"Tipo de Ambulância\\\"=\\\"Unidade de Suporte Básico\\\", \\\"Código de Deslocamento\\\"=\\\"Código 2: Sem sirene\\\"\",\n",
    "  \"output: \",\n",
    "])\n",
    "\n",
    "print(response.text)\n",
    "email_body = response.text\n",
    "print(email_body)\n"
   ]
  },
  {
   "cell_type": "code",
   "execution_count": null,
   "metadata": {
    "id": "V-oBGrifUwmd"
   },
   "outputs": [],
   "source": [
    "def gerar_email(sintomas):\n",
    "  resultado = diagnosticar(sintomas)\n",
    "  orientacao_medica = resultado[\"Orientação\"]\n",
    "  enviar_ambulancia = resultado[\"Enviar Ambulância?\"]\n",
    "  nivel_prioridade = resultado[\"Nível de Prioridade\"]\n",
    "  tipo_ambulancia = resultado[\"Tipo de Ambulância\"]\n",
    "  codigo_deslocamento = resultado[\"Código de Deslocamento\"]\n",
    "  entrada =  f\"input: \\n\\\"Orientação dada ao solicitante pelo médico regulador\\\"=\\\"{orientacao_medica}\\\",\\n\\\"Enviar Ambulância\\\"=\\\"{enviar_ambulancia}\\\",  \\\"Nível de Prioridade\\\"=\\\"{nivel_prioridade}\\\", \\\"Tipo de Ambulância\\\"=\\\"{tipo_ambulancia}\\\", \\\"Código de Deslocamento\\\"=\\\"{codigo_deslocamento}\\\"\"\n",
    "  entrada=entrada\n",
    "  response = model.generate_content([\n",
    "    \"input: Orientação dada ao solicitante pelo médico regulador, Enviar Ambulância,  Nível de Prioridade, Tipo de Ambulância, Código de Deslocamento\",\n",
    "    \"output: A partir do input gere um texto que será um e-mail enviado para as equipes de ambulâncias do SAMU com o título \\\"Nova Ocorrência\\\".   Gere um número de protocolo aleatório que irá simular o número de protocolo da ocorrência e adicione ao texto.\\n\\nTexto sem nenhum tipo de formatação.\",\n",
    "    entrada,\n",
    "    \"output: \",\n",
    "  ])\n",
    "\n",
    "  return response.text\n"
   ]
  },
  {
   "cell_type": "code",
   "execution_count": null,
   "metadata": {
    "colab": {
     "base_uri": "https://localhost:8080/",
     "height": 645
    },
    "id": "TxMDscuKUzT6",
    "outputId": "60e94031-71de-4736-8daf-a16f8075baf5"
   },
   "outputs": [
    {
     "name": "stdout",
     "output_type": "stream",
     "text": [
      "Setting queue=True in a Colab notebook requires sharing enabled. Setting `share=True` (you can turn this off by setting `share=False` in `launch()` explicitly).\n",
      "\n",
      "Colab notebook detected. This cell will run indefinitely so that you can see errors and logs. To turn off, set debug=False in launch().\n",
      "Running on public URL: https://afb09ca6e43fc6add7.gradio.live\n",
      "\n",
      "This share link expires in 72 hours. For free permanent hosting and GPU upgrades, run `gradio deploy` from Terminal to deploy to Spaces (https://huggingface.co/spaces)\n"
     ]
    },
    {
     "data": {
      "text/html": [
       "<div><iframe src=\"https://afb09ca6e43fc6add7.gradio.live\" width=\"100%\" height=\"500\" allow=\"autoplay; camera; microphone; clipboard-read; clipboard-write;\" frameborder=\"0\" allowfullscreen></iframe></div>"
      ],
      "text/plain": [
       "<IPython.core.display.HTML object>"
      ]
     },
     "metadata": {},
     "output_type": "display_data"
    }
   ],
   "source": [
    "demo_email = gr.Interface(\n",
    "    fn=gerar_email,\n",
    "    inputs=\"text\",\n",
    "    outputs=\"text\",\n",
    "    title=\"Ocorrências do SAMU\",\n",
    "    description=\"Informe a situação da vítima.\"\n",
    ")\n",
    "\n",
    "#demo_email.launch()\n",
    "demo_email.launch(debug=True)"
   ]
  }
 ],
 "metadata": {
  "colab": {
   "authorship_tag": "ABX9TyMwwMBi9t5g98iEaqUBOx8B",
   "include_colab_link": true,
   "provenance": []
  },
  "kernelspec": {
   "display_name": "Python 3",
   "name": "python3"
  },
  "language_info": {
   "codemirror_mode": {
    "name": "ipython",
    "version": 3
   },
   "file_extension": ".py",
   "mimetype": "text/x-python",
   "name": "python",
   "nbconvert_exporter": "python",
   "pygments_lexer": "ipython3",
   "version": "3.12.4"
  }
 },
 "nbformat": 4,
 "nbformat_minor": 0
}
